{
 "cells": [
  {
   "cell_type": "code",
   "execution_count": 1,
   "id": "d79e4550",
   "metadata": {},
   "outputs": [],
   "source": [
    "import pandas as pd \n",
    "import numpy as np \n",
    "import yfinance as yf\n",
    "import matplotlib.pyplot as plt \n",
    "import datetime\n",
    "import seaborn as sns"
   ]
  },
  {
   "cell_type": "raw",
   "id": "1744190b",
   "metadata": {},
   "source": [
    "In this project w'll plot the efficient frontiers for a given number of assets and get the optimal whieghts for each asset \n",
    "\n"
   ]
  },
  {
   "cell_type": "markdown",
   "id": "fa609db8",
   "metadata": {},
   "source": [
    "# Download an manipulat the Data "
   ]
  },
  {
   "cell_type": "code",
   "execution_count": 2,
   "id": "6b30599c",
   "metadata": {},
   "outputs": [
    {
     "name": "stdout",
     "output_type": "stream",
     "text": [
      "[*********************100%***********************]  6 of 6 completed\n"
     ]
    },
    {
     "data": {
      "text/html": [
       "<div>\n",
       "<style scoped>\n",
       "    .dataframe tbody tr th:only-of-type {\n",
       "        vertical-align: middle;\n",
       "    }\n",
       "\n",
       "    .dataframe tbody tr th {\n",
       "        vertical-align: top;\n",
       "    }\n",
       "\n",
       "    .dataframe thead tr th {\n",
       "        text-align: left;\n",
       "    }\n",
       "\n",
       "    .dataframe thead tr:last-of-type th {\n",
       "        text-align: right;\n",
       "    }\n",
       "</style>\n",
       "<table border=\"1\" class=\"dataframe\">\n",
       "  <thead>\n",
       "    <tr>\n",
       "      <th></th>\n",
       "      <th colspan=\"6\" halign=\"left\">Adj Close</th>\n",
       "      <th colspan=\"4\" halign=\"left\">Close</th>\n",
       "      <th>...</th>\n",
       "      <th colspan=\"4\" halign=\"left\">Open</th>\n",
       "      <th colspan=\"6\" halign=\"left\">Volume</th>\n",
       "    </tr>\n",
       "    <tr>\n",
       "      <th></th>\n",
       "      <th>AAPL</th>\n",
       "      <th>ACGL</th>\n",
       "      <th>GE</th>\n",
       "      <th>IBM</th>\n",
       "      <th>JPM</th>\n",
       "      <th>TSLA</th>\n",
       "      <th>AAPL</th>\n",
       "      <th>ACGL</th>\n",
       "      <th>GE</th>\n",
       "      <th>IBM</th>\n",
       "      <th>...</th>\n",
       "      <th>GE</th>\n",
       "      <th>IBM</th>\n",
       "      <th>JPM</th>\n",
       "      <th>TSLA</th>\n",
       "      <th>AAPL</th>\n",
       "      <th>ACGL</th>\n",
       "      <th>GE</th>\n",
       "      <th>IBM</th>\n",
       "      <th>JPM</th>\n",
       "      <th>TSLA</th>\n",
       "    </tr>\n",
       "    <tr>\n",
       "      <th>Date</th>\n",
       "      <th></th>\n",
       "      <th></th>\n",
       "      <th></th>\n",
       "      <th></th>\n",
       "      <th></th>\n",
       "      <th></th>\n",
       "      <th></th>\n",
       "      <th></th>\n",
       "      <th></th>\n",
       "      <th></th>\n",
       "      <th></th>\n",
       "      <th></th>\n",
       "      <th></th>\n",
       "      <th></th>\n",
       "      <th></th>\n",
       "      <th></th>\n",
       "      <th></th>\n",
       "      <th></th>\n",
       "      <th></th>\n",
       "      <th></th>\n",
       "      <th></th>\n",
       "    </tr>\n",
       "  </thead>\n",
       "  <tbody>\n",
       "    <tr>\n",
       "      <th>2023-08-01</th>\n",
       "      <td>195.610001</td>\n",
       "      <td>77.099998</td>\n",
       "      <td>113.220001</td>\n",
       "      <td>143.330002</td>\n",
       "      <td>157.179993</td>\n",
       "      <td>261.070007</td>\n",
       "      <td>195.610001</td>\n",
       "      <td>77.099998</td>\n",
       "      <td>113.220001</td>\n",
       "      <td>143.330002</td>\n",
       "      <td>...</td>\n",
       "      <td>113.690002</td>\n",
       "      <td>144.250000</td>\n",
       "      <td>157.429993</td>\n",
       "      <td>266.260010</td>\n",
       "      <td>35175100</td>\n",
       "      <td>1462400</td>\n",
       "      <td>5263400</td>\n",
       "      <td>4797700</td>\n",
       "      <td>6853900</td>\n",
       "      <td>83166000</td>\n",
       "    </tr>\n",
       "    <tr>\n",
       "      <th>2023-08-02</th>\n",
       "      <td>192.580002</td>\n",
       "      <td>77.360001</td>\n",
       "      <td>111.970001</td>\n",
       "      <td>144.169998</td>\n",
       "      <td>155.399994</td>\n",
       "      <td>254.110001</td>\n",
       "      <td>192.580002</td>\n",
       "      <td>77.360001</td>\n",
       "      <td>111.970001</td>\n",
       "      <td>144.169998</td>\n",
       "      <td>...</td>\n",
       "      <td>112.970001</td>\n",
       "      <td>142.779999</td>\n",
       "      <td>155.559998</td>\n",
       "      <td>255.570007</td>\n",
       "      <td>50389300</td>\n",
       "      <td>1495300</td>\n",
       "      <td>4291600</td>\n",
       "      <td>4957400</td>\n",
       "      <td>8299400</td>\n",
       "      <td>101752900</td>\n",
       "    </tr>\n",
       "    <tr>\n",
       "      <th>2023-08-03</th>\n",
       "      <td>191.169998</td>\n",
       "      <td>77.389999</td>\n",
       "      <td>112.360001</td>\n",
       "      <td>144.449997</td>\n",
       "      <td>156.350006</td>\n",
       "      <td>259.320007</td>\n",
       "      <td>191.169998</td>\n",
       "      <td>77.389999</td>\n",
       "      <td>112.360001</td>\n",
       "      <td>144.449997</td>\n",
       "      <td>...</td>\n",
       "      <td>111.830002</td>\n",
       "      <td>143.779999</td>\n",
       "      <td>155.000000</td>\n",
       "      <td>252.039993</td>\n",
       "      <td>61235200</td>\n",
       "      <td>1815700</td>\n",
       "      <td>3469600</td>\n",
       "      <td>3951900</td>\n",
       "      <td>6084000</td>\n",
       "      <td>97569100</td>\n",
       "    </tr>\n",
       "    <tr>\n",
       "      <th>2023-08-04</th>\n",
       "      <td>181.990005</td>\n",
       "      <td>76.720001</td>\n",
       "      <td>113.059998</td>\n",
       "      <td>144.240005</td>\n",
       "      <td>156.020004</td>\n",
       "      <td>253.860001</td>\n",
       "      <td>181.990005</td>\n",
       "      <td>76.720001</td>\n",
       "      <td>113.059998</td>\n",
       "      <td>144.240005</td>\n",
       "      <td>...</td>\n",
       "      <td>112.820000</td>\n",
       "      <td>145.089996</td>\n",
       "      <td>156.399994</td>\n",
       "      <td>260.970001</td>\n",
       "      <td>115799700</td>\n",
       "      <td>1582100</td>\n",
       "      <td>4882100</td>\n",
       "      <td>4223100</td>\n",
       "      <td>6206600</td>\n",
       "      <td>99242600</td>\n",
       "    </tr>\n",
       "    <tr>\n",
       "      <th>2023-08-07</th>\n",
       "      <td>178.850006</td>\n",
       "      <td>78.230003</td>\n",
       "      <td>114.730003</td>\n",
       "      <td>146.179993</td>\n",
       "      <td>156.759995</td>\n",
       "      <td>251.449997</td>\n",
       "      <td>178.850006</td>\n",
       "      <td>78.230003</td>\n",
       "      <td>114.730003</td>\n",
       "      <td>146.179993</td>\n",
       "      <td>...</td>\n",
       "      <td>113.540001</td>\n",
       "      <td>145.000000</td>\n",
       "      <td>156.600006</td>\n",
       "      <td>251.449997</td>\n",
       "      <td>97455200</td>\n",
       "      <td>1570500</td>\n",
       "      <td>3303500</td>\n",
       "      <td>3437700</td>\n",
       "      <td>7250700</td>\n",
       "      <td>110939500</td>\n",
       "    </tr>\n",
       "  </tbody>\n",
       "</table>\n",
       "<p>5 rows × 36 columns</p>\n",
       "</div>"
      ],
      "text/plain": [
       "             Adj Close                                                 \\\n",
       "                  AAPL       ACGL          GE         IBM         JPM   \n",
       "Date                                                                    \n",
       "2023-08-01  195.610001  77.099998  113.220001  143.330002  157.179993   \n",
       "2023-08-02  192.580002  77.360001  111.970001  144.169998  155.399994   \n",
       "2023-08-03  191.169998  77.389999  112.360001  144.449997  156.350006   \n",
       "2023-08-04  181.990005  76.720001  113.059998  144.240005  156.020004   \n",
       "2023-08-07  178.850006  78.230003  114.730003  146.179993  156.759995   \n",
       "\n",
       "                             Close                                     ...  \\\n",
       "                  TSLA        AAPL       ACGL          GE         IBM  ...   \n",
       "Date                                                                   ...   \n",
       "2023-08-01  261.070007  195.610001  77.099998  113.220001  143.330002  ...   \n",
       "2023-08-02  254.110001  192.580002  77.360001  111.970001  144.169998  ...   \n",
       "2023-08-03  259.320007  191.169998  77.389999  112.360001  144.449997  ...   \n",
       "2023-08-04  253.860001  181.990005  76.720001  113.059998  144.240005  ...   \n",
       "2023-08-07  251.449997  178.850006  78.230003  114.730003  146.179993  ...   \n",
       "\n",
       "                  Open                                         Volume  \\\n",
       "                    GE         IBM         JPM        TSLA       AAPL   \n",
       "Date                                                                    \n",
       "2023-08-01  113.690002  144.250000  157.429993  266.260010   35175100   \n",
       "2023-08-02  112.970001  142.779999  155.559998  255.570007   50389300   \n",
       "2023-08-03  111.830002  143.779999  155.000000  252.039993   61235200   \n",
       "2023-08-04  112.820000  145.089996  156.399994  260.970001  115799700   \n",
       "2023-08-07  113.540001  145.000000  156.600006  251.449997   97455200   \n",
       "\n",
       "                                                           \n",
       "               ACGL       GE      IBM      JPM       TSLA  \n",
       "Date                                                       \n",
       "2023-08-01  1462400  5263400  4797700  6853900   83166000  \n",
       "2023-08-02  1495300  4291600  4957400  8299400  101752900  \n",
       "2023-08-03  1815700  3469600  3951900  6084000   97569100  \n",
       "2023-08-04  1582100  4882100  4223100  6206600   99242600  \n",
       "2023-08-07  1570500  3303500  3437700  7250700  110939500  \n",
       "\n",
       "[5 rows x 36 columns]"
      ]
     },
     "execution_count": 2,
     "metadata": {},
     "output_type": "execute_result"
    }
   ],
   "source": [
    "# Downloading assets data using yfinance library\n",
    "\n",
    "Assets = ['ACGL','GE','IBM','AAPL','TSLA','JPM'] # You can modifie this liste and add what ever asset you want \n",
    "end = datetime.date.today()\n",
    "start = end - datetime.timedelta(360*5) # we are going to study 5 years data \n",
    "df = yf.download(Assets, start = start , end = end )\n",
    "df.tail()"
   ]
  },
  {
   "cell_type": "code",
   "execution_count": 3,
   "id": "ffa345d7",
   "metadata": {},
   "outputs": [
    {
     "data": {
      "text/html": [
       "<div>\n",
       "<style scoped>\n",
       "    .dataframe tbody tr th:only-of-type {\n",
       "        vertical-align: middle;\n",
       "    }\n",
       "\n",
       "    .dataframe tbody tr th {\n",
       "        vertical-align: top;\n",
       "    }\n",
       "\n",
       "    .dataframe thead th {\n",
       "        text-align: right;\n",
       "    }\n",
       "</style>\n",
       "<table border=\"1\" class=\"dataframe\">\n",
       "  <thead>\n",
       "    <tr style=\"text-align: right;\">\n",
       "      <th></th>\n",
       "      <th>AAPL</th>\n",
       "      <th>ACGL</th>\n",
       "      <th>GE</th>\n",
       "      <th>IBM</th>\n",
       "      <th>JPM</th>\n",
       "      <th>TSLA</th>\n",
       "    </tr>\n",
       "    <tr>\n",
       "      <th>Date</th>\n",
       "      <th></th>\n",
       "      <th></th>\n",
       "      <th></th>\n",
       "      <th></th>\n",
       "      <th></th>\n",
       "      <th></th>\n",
       "    </tr>\n",
       "  </thead>\n",
       "  <tbody>\n",
       "    <tr>\n",
       "      <th>2018-09-05</th>\n",
       "      <td>-0.006525</td>\n",
       "      <td>0.000000</td>\n",
       "      <td>-0.008682</td>\n",
       "      <td>0.006727</td>\n",
       "      <td>-0.004863</td>\n",
       "      <td>-0.028413</td>\n",
       "    </tr>\n",
       "    <tr>\n",
       "      <th>2018-09-06</th>\n",
       "      <td>-0.016617</td>\n",
       "      <td>-0.007519</td>\n",
       "      <td>-0.003981</td>\n",
       "      <td>-0.001841</td>\n",
       "      <td>-0.004276</td>\n",
       "      <td>0.000748</td>\n",
       "    </tr>\n",
       "    <tr>\n",
       "      <th>2018-09-07</th>\n",
       "      <td>-0.008068</td>\n",
       "      <td>-0.002635</td>\n",
       "      <td>-0.008793</td>\n",
       "      <td>-0.006421</td>\n",
       "      <td>0.001928</td>\n",
       "      <td>-0.063036</td>\n",
       "    </tr>\n",
       "    <tr>\n",
       "      <th>2018-09-10</th>\n",
       "      <td>-0.013421</td>\n",
       "      <td>-0.006605</td>\n",
       "      <td>0.008871</td>\n",
       "      <td>0.001375</td>\n",
       "      <td>-0.005336</td>\n",
       "      <td>0.084562</td>\n",
       "    </tr>\n",
       "    <tr>\n",
       "      <th>2018-09-11</th>\n",
       "      <td>0.025283</td>\n",
       "      <td>0.004987</td>\n",
       "      <td>-0.014388</td>\n",
       "      <td>0.005767</td>\n",
       "      <td>0.006332</td>\n",
       "      <td>-0.021226</td>\n",
       "    </tr>\n",
       "    <tr>\n",
       "      <th>...</th>\n",
       "      <td>...</td>\n",
       "      <td>...</td>\n",
       "      <td>...</td>\n",
       "      <td>...</td>\n",
       "      <td>...</td>\n",
       "      <td>...</td>\n",
       "    </tr>\n",
       "    <tr>\n",
       "      <th>2023-08-01</th>\n",
       "      <td>-0.004276</td>\n",
       "      <td>-0.007594</td>\n",
       "      <td>-0.008929</td>\n",
       "      <td>-0.005895</td>\n",
       "      <td>-0.004938</td>\n",
       "      <td>-0.023782</td>\n",
       "    </tr>\n",
       "    <tr>\n",
       "      <th>2023-08-02</th>\n",
       "      <td>-0.015490</td>\n",
       "      <td>0.003372</td>\n",
       "      <td>-0.011040</td>\n",
       "      <td>0.005861</td>\n",
       "      <td>-0.011325</td>\n",
       "      <td>-0.026660</td>\n",
       "    </tr>\n",
       "    <tr>\n",
       "      <th>2023-08-03</th>\n",
       "      <td>-0.007322</td>\n",
       "      <td>0.000388</td>\n",
       "      <td>0.003483</td>\n",
       "      <td>0.001942</td>\n",
       "      <td>0.006113</td>\n",
       "      <td>0.020503</td>\n",
       "    </tr>\n",
       "    <tr>\n",
       "      <th>2023-08-04</th>\n",
       "      <td>-0.048020</td>\n",
       "      <td>-0.008657</td>\n",
       "      <td>0.006230</td>\n",
       "      <td>-0.001454</td>\n",
       "      <td>-0.002111</td>\n",
       "      <td>-0.021055</td>\n",
       "    </tr>\n",
       "    <tr>\n",
       "      <th>2023-08-07</th>\n",
       "      <td>-0.017254</td>\n",
       "      <td>0.019682</td>\n",
       "      <td>0.014771</td>\n",
       "      <td>0.013450</td>\n",
       "      <td>0.004743</td>\n",
       "      <td>-0.009493</td>\n",
       "    </tr>\n",
       "  </tbody>\n",
       "</table>\n",
       "<p>1238 rows × 6 columns</p>\n",
       "</div>"
      ],
      "text/plain": [
       "                AAPL      ACGL        GE       IBM       JPM      TSLA\n",
       "Date                                                                  \n",
       "2018-09-05 -0.006525  0.000000 -0.008682  0.006727 -0.004863 -0.028413\n",
       "2018-09-06 -0.016617 -0.007519 -0.003981 -0.001841 -0.004276  0.000748\n",
       "2018-09-07 -0.008068 -0.002635 -0.008793 -0.006421  0.001928 -0.063036\n",
       "2018-09-10 -0.013421 -0.006605  0.008871  0.001375 -0.005336  0.084562\n",
       "2018-09-11  0.025283  0.004987 -0.014388  0.005767  0.006332 -0.021226\n",
       "...              ...       ...       ...       ...       ...       ...\n",
       "2023-08-01 -0.004276 -0.007594 -0.008929 -0.005895 -0.004938 -0.023782\n",
       "2023-08-02 -0.015490  0.003372 -0.011040  0.005861 -0.011325 -0.026660\n",
       "2023-08-03 -0.007322  0.000388  0.003483  0.001942  0.006113  0.020503\n",
       "2023-08-04 -0.048020 -0.008657  0.006230 -0.001454 -0.002111 -0.021055\n",
       "2023-08-07 -0.017254  0.019682  0.014771  0.013450  0.004743 -0.009493\n",
       "\n",
       "[1238 rows x 6 columns]"
      ]
     },
     "execution_count": 3,
     "metadata": {},
     "output_type": "execute_result"
    }
   ],
   "source": [
    "# All what we need is the Adjusted Close to calculat the daily returns\n",
    "\n",
    "df = df['Adj Close']\n",
    "df = df.pct_change().dropna()\n",
    "df"
   ]
  },
  {
   "cell_type": "markdown",
   "id": "79376f84",
   "metadata": {},
   "source": [
    "# Calculating the statistics "
   ]
  },
  {
   "cell_type": "code",
   "execution_count": 4,
   "id": "bf79d3bb",
   "metadata": {},
   "outputs": [
    {
     "data": {
      "text/plain": [
       "(array([0.00117933, 0.00097875, 0.00072638, 0.00037557, 0.00057908,\n",
       "        0.00294872]),\n",
       " array([0.02109293, 0.02090835, 0.02724439, 0.01711801, 0.02040866,\n",
       "        0.04176503]),\n",
       " 1238,\n",
       " array([0.05591134, 0.0468115 , 0.02666157, 0.02193976, 0.0283742 ,\n",
       "        0.07060273]))"
      ]
     },
     "execution_count": 4,
     "metadata": {},
     "output_type": "execute_result"
    }
   ],
   "source": [
    "# calculating the expected returns which is the return's mean\n",
    "expRet = np.array(df.mean())\n",
    "N = len(df)\n",
    "# calculating the standard diviation\n",
    "stdDev = np.array(np.std(df))\n",
    "# calculating the Sharp Ratio\n",
    "sharp = expRet/stdDev\n",
    "expRet, stdDev,N, sharp"
   ]
  },
  {
   "cell_type": "code",
   "execution_count": 5,
   "id": "a2d4b8c8",
   "metadata": {},
   "outputs": [
    {
     "data": {
      "text/plain": [
       "array([[0.00044666, 0.00018301, 0.00021627, 0.00016448, 0.00020084,\n",
       "        0.0004266 ],\n",
       "       [0.00018301, 0.00043847, 0.00028718, 0.00019276, 0.00029126,\n",
       "        0.00017696],\n",
       "       [0.00021627, 0.00028718, 0.00074339, 0.00023109, 0.00033401,\n",
       "        0.00026954],\n",
       "       [0.00016448, 0.00019276, 0.00023109, 0.0002934 , 0.00020673,\n",
       "        0.00014759],\n",
       "       [0.00020084, 0.00029126, 0.00033401, 0.00020673, 0.00041719,\n",
       "        0.00023712],\n",
       "       [0.0004266 , 0.00017696, 0.00026954, 0.00014759, 0.00023712,\n",
       "        0.00175443]])"
      ]
     },
     "execution_count": 5,
     "metadata": {},
     "output_type": "execute_result"
    }
   ],
   "source": [
    "# variance covariance Matrix\n",
    "varCov = np.matmul(np.array(df).T, np.array(df))/(N-1)\n",
    "varCov"
   ]
  },
  {
   "cell_type": "code",
   "execution_count": 6,
   "id": "de08d874",
   "metadata": {},
   "outputs": [
    {
     "data": {
      "text/plain": [
       "array([0.00044491, 0.00043716, 0.00074226, 0.00029303, 0.00041651,\n",
       "       0.00174432])"
      ]
     },
     "execution_count": 6,
     "metadata": {},
     "output_type": "execute_result"
    }
   ],
   "source": [
    "# variance to check if the varcov is correct \n",
    "var = stdDev**2\n",
    "var"
   ]
  },
  {
   "cell_type": "code",
   "execution_count": 7,
   "id": "4ffa7864",
   "metadata": {},
   "outputs": [
    {
     "data": {
      "image/png": "[encoded data removed]",
      "text/plain": [
       "<Figure size 640x480 with 2 Axes>"
      ]
     },
     "metadata": {},
     "output_type": "display_data"
    }
   ],
   "source": [
    "# calculat and plot the correlation between assets\n",
    "sns.heatmap(df.corr(), vmax=1, square=True, annot=True, cmap='cubehelix')\n",
    "plt.show()"
   ]
  },
  {
   "cell_type": "markdown",
   "id": "27a18460",
   "metadata": {},
   "source": [
    "# Constructing an equaly wieghted portfolio"
   ]
  },
  {
   "cell_type": "code",
   "execution_count": 8,
   "id": "1026168d",
   "metadata": {},
   "outputs": [
    {
     "data": {
      "text/plain": [
       "array([0.16666667, 0.16666667, 0.16666667, 0.16666667, 0.16666667,\n",
       "       0.16666667])"
      ]
     },
     "execution_count": 8,
     "metadata": {},
     "output_type": "execute_result"
    }
   ],
   "source": [
    "# calculating the wieghts \n",
    "wieghts = np.array(len(df.columns) * [1/len(df.columns)])\n",
    "wieghts"
   ]
  },
  {
   "cell_type": "code",
   "execution_count": 9,
   "id": "10dfb4b7",
   "metadata": {},
   "outputs": [
    {
     "data": {
      "text/plain": [
       "0.0011313053963421529"
      ]
     },
     "execution_count": 9,
     "metadata": {},
     "output_type": "execute_result"
    }
   ],
   "source": [
    "# calculating portfolio expected return\n",
    "portfolio_expRet = np.dot(expRet,wieghts)\n",
    "portfolio_expRet"
   ]
  },
  {
   "cell_type": "code",
   "execution_count": 10,
   "id": "6b0a3075",
   "metadata": {},
   "outputs": [
    {
     "data": {
      "text/plain": [
       "0.017657574549185248"
      ]
     },
     "execution_count": 10,
     "metadata": {},
     "output_type": "execute_result"
    }
   ],
   "source": [
    "# calculating portfolio standars diviation\n",
    "portfolio_stdDev = np.sqrt(np.matmul(np.matmul(wieghts,varCov),wieghts.T))\n",
    "portfolio_stdDev"
   ]
  },
  {
   "cell_type": "code",
   "execution_count": 11,
   "id": "290336ea",
   "metadata": {},
   "outputs": [
    {
     "data": {
      "text/plain": [
       "0.06406912756850591"
      ]
     },
     "execution_count": 11,
     "metadata": {},
     "output_type": "execute_result"
    }
   ],
   "source": [
    "# calculating portfolio Sharp Ratio\n",
    "portfolio_sharp = portfolio_expRet / portfolio_stdDev\n",
    "portfolio_sharp"
   ]
  },
  {
   "cell_type": "markdown",
   "id": "2b751929",
   "metadata": {},
   "source": [
    "# Efficient Frontiers"
   ]
  },
  {
   "cell_type": "code",
   "execution_count": 12,
   "id": "52ab30a3",
   "metadata": {},
   "outputs": [],
   "source": [
    "# Proceding a Monte carlo simulation to get a random portfolio wieghts\n",
    "rand_expRet = []\n",
    "rand_stdDev = []\n",
    "rand_wieghts = []\n",
    "for i in range(100000): # we goes with 100000 random portfolio \n",
    "    coefs = np.random.rand(len(df.columns))\n",
    "    total = np.sum(coefs)\n",
    "    wieghts = coefs/total\n",
    "    # adding the whieghts,expected returns and std deviation to lists \n",
    "    rand_wieghts.append(wieghts)\n",
    "    rand_expRet.append(np.dot(expRet,wieghts))\n",
    "    rand_stdDev.append(np.sqrt(np.matmul(np.matmul(wieghts,varCov),wieghts.T)))"
   ]
  },
  {
   "cell_type": "code",
   "execution_count": 13,
   "id": "d421811a",
   "metadata": {},
   "outputs": [
    {
     "data": {
      "text/plain": [
       "100000"
      ]
     },
     "execution_count": 13,
     "metadata": {},
     "output_type": "execute_result"
    }
   ],
   "source": [
    "len(rand_expRet)"
   ]
  },
  {
   "cell_type": "code",
   "execution_count": 14,
   "id": "0706cc48",
   "metadata": {},
   "outputs": [
    {
     "data": {
      "text/html": [
       "<div>\n",
       "<style scoped>\n",
       "    .dataframe tbody tr th:only-of-type {\n",
       "        vertical-align: middle;\n",
       "    }\n",
       "\n",
       "    .dataframe tbody tr th {\n",
       "        vertical-align: top;\n",
       "    }\n",
       "\n",
       "    .dataframe thead th {\n",
       "        text-align: right;\n",
       "    }\n",
       "</style>\n",
       "<table border=\"1\" class=\"dataframe\">\n",
       "  <thead>\n",
       "    <tr style=\"text-align: right;\">\n",
       "      <th></th>\n",
       "      <th>wieghts</th>\n",
       "      <th>return</th>\n",
       "      <th>std</th>\n",
       "      <th>sharp</th>\n",
       "    </tr>\n",
       "  </thead>\n",
       "  <tbody>\n",
       "    <tr>\n",
       "      <th>0</th>\n",
       "      <td>[0.2277390369600944, 0.11178964253706751, 0.21...</td>\n",
       "      <td>0.001624</td>\n",
       "      <td>0.022176</td>\n",
       "      <td>0.073245</td>\n",
       "    </tr>\n",
       "    <tr>\n",
       "      <th>1</th>\n",
       "      <td>[0.20918172629041548, 0.13550757174439557, 0.0...</td>\n",
       "      <td>0.001233</td>\n",
       "      <td>0.017938</td>\n",
       "      <td>0.068745</td>\n",
       "    </tr>\n",
       "    <tr>\n",
       "      <th>2</th>\n",
       "      <td>[0.17193723959823637, 0.18855882231752172, 0.0...</td>\n",
       "      <td>0.001232</td>\n",
       "      <td>0.017841</td>\n",
       "      <td>0.069058</td>\n",
       "    </tr>\n",
       "    <tr>\n",
       "      <th>3</th>\n",
       "      <td>[0.10280173750413814, 0.11820705001548398, 0.1...</td>\n",
       "      <td>0.001554</td>\n",
       "      <td>0.021666</td>\n",
       "      <td>0.071735</td>\n",
       "    </tr>\n",
       "    <tr>\n",
       "      <th>4</th>\n",
       "      <td>[0.30792145829241424, 0.08837026469527635, 0.2...</td>\n",
       "      <td>0.000989</td>\n",
       "      <td>0.017146</td>\n",
       "      <td>0.057694</td>\n",
       "    </tr>\n",
       "  </tbody>\n",
       "</table>\n",
       "</div>"
      ],
      "text/plain": [
       "                                             wieghts    return       std  \\\n",
       "0  [0.2277390369600944, 0.11178964253706751, 0.21...  0.001624  0.022176   \n",
       "1  [0.20918172629041548, 0.13550757174439557, 0.0...  0.001233  0.017938   \n",
       "2  [0.17193723959823637, 0.18855882231752172, 0.0...  0.001232  0.017841   \n",
       "3  [0.10280173750413814, 0.11820705001548398, 0.1...  0.001554  0.021666   \n",
       "4  [0.30792145829241424, 0.08837026469527635, 0.2...  0.000989  0.017146   \n",
       "\n",
       "      sharp  \n",
       "0  0.073245  \n",
       "1  0.068745  \n",
       "2  0.069058  \n",
       "3  0.071735  \n",
       "4  0.057694  "
      ]
     },
     "execution_count": 14,
     "metadata": {},
     "output_type": "execute_result"
    }
   ],
   "source": [
    "# Create a Pandas dataframe with the calculated data\n",
    "data = pd.DataFrame()\n",
    "data['wieghts']=rand_wieghts\n",
    "data['return']=rand_expRet\n",
    "data['std']=rand_stdDev\n",
    "data['sharp'] = data['return']/data['std']\n",
    "max_sharp = data[data['sharp']==max(data['sharp'])]\n",
    "data.head()"
   ]
  },
  {
   "cell_type": "code",
   "execution_count": 15,
   "id": "939c21ef",
   "metadata": {},
   "outputs": [
    {
     "data": {
      "text/html": [
       "<div>\n",
       "<style scoped>\n",
       "    .dataframe tbody tr th:only-of-type {\n",
       "        vertical-align: middle;\n",
       "    }\n",
       "\n",
       "    .dataframe tbody tr th {\n",
       "        vertical-align: top;\n",
       "    }\n",
       "\n",
       "    .dataframe thead th {\n",
       "        text-align: right;\n",
       "    }\n",
       "</style>\n",
       "<table border=\"1\" class=\"dataframe\">\n",
       "  <thead>\n",
       "    <tr style=\"text-align: right;\">\n",
       "      <th></th>\n",
       "      <th>wieghts</th>\n",
       "      <th>return</th>\n",
       "      <th>std</th>\n",
       "    </tr>\n",
       "  </thead>\n",
       "  <tbody>\n",
       "    <tr>\n",
       "      <th>0</th>\n",
       "      <td>0</td>\n",
       "      <td>0.000159</td>\n",
       "      <td>0.000000</td>\n",
       "    </tr>\n",
       "    <tr>\n",
       "      <th>1</th>\n",
       "      <td>1</td>\n",
       "      <td>0.001659</td>\n",
       "      <td>0.021149</td>\n",
       "    </tr>\n",
       "    <tr>\n",
       "      <th>2</th>\n",
       "      <td>2</td>\n",
       "      <td>0.003158</td>\n",
       "      <td>0.042298</td>\n",
       "    </tr>\n",
       "  </tbody>\n",
       "</table>\n",
       "</div>"
      ],
      "text/plain": [
       "   wieghts    return       std\n",
       "0        0  0.000159  0.000000\n",
       "1        1  0.001659  0.021149\n",
       "2        2  0.003158  0.042298"
      ]
     },
     "execution_count": 15,
     "metadata": {},
     "output_type": "execute_result"
    }
   ],
   "source": [
    "# market capital line \n",
    "MCL = pd.DataFrame()\n",
    "riskFree = 0.04 / 252\n",
    "ret = float(max_sharp['return'])\n",
    "std = float(max_sharp['std'])\n",
    "MCL['wieghts'] = [0,1,2]\n",
    "MCL['return'] = (MCL['wieghts'] * ret)+((1-MCL['wieghts'])*riskFree)\n",
    "MCL['std'] = MCL['wieghts'] * std\n",
    "MCL"
   ]
  },
  {
   "cell_type": "code",
   "execution_count": 16,
   "id": "4c63de30",
   "metadata": {},
   "outputs": [
    {
     "data": {
      "image/png": "[encoded data removed]",
      "text/plain": [
       "<Figure size 1000x500 with 1 Axes>"
      ]
     },
     "metadata": {},
     "output_type": "display_data"
    }
   ],
   "source": [
    "# Ploting all portfolios expected return and standard deviation to get the efficient frontiers \n",
    "fig, ax = plt.subplots(figsize=(10, 5))\n",
    "plt.xlabel(\"Risk\")\n",
    "plt.ylabel(\"Return\")\n",
    "plt.title('EFFICIENT FRONTIERS')\n",
    "random = plt.scatter(data['std'], data['return'], c='b',s=.1)\n",
    "# the portfolio with max sharp ratio\n",
    "maxsharp = plt.scatter(max_sharp['std'], max_sharp['return'], c='r',s=10) \n",
    "# Market capital line\n",
    "plt.plot(MCL['std'],MCL['return'])\n",
    "\n",
    "ax.legend(['Random Portfolios','MaxSharp Portfolio','Market Capital Line'])\n",
    "plt.show()"
   ]
  },
  {
   "cell_type": "code",
   "execution_count": 17,
   "id": "d32ed8d9",
   "metadata": {},
   "outputs": [
    {
     "name": "stdout",
     "output_type": "stream",
     "text": [
      "[0.21243037 0.42889823 0.01060568 0.01624502 0.00170008 0.33012062]\n",
      "Index(['AAPL', 'ACGL', 'GE', 'IBM', 'JPM', 'TSLA'], dtype='object')\n"
     ]
    }
   ],
   "source": [
    "# Get th wieghts of the portfolio with the max sharp ratio \n",
    "for wieght in max_sharp['wieghts']:\n",
    "    print(wieght)\n",
    "print(df.columns)"
   ]
  },
  {
   "cell_type": "code",
   "execution_count": null,
   "id": "990cb129",
   "metadata": {},
   "outputs": [],
   "source": []
  }
 ],
 "metadata": {
  "kernelspec": {
   "display_name": "Python 3 (ipykernel)",
   "language": "python",
   "name": "python3"
  },
  "language_info": {
   "codemirror_mode": {
    "name": "ipython",
    "version": 3
   },
   "file_extension": ".py",
   "mimetype": "text/x-python",
   "name": "python",
   "nbconvert_exporter": "python",
   "pygments_lexer": "ipython3",
   "version": "3.9.13"
  }
 },
 "nbformat": 4,
 "nbformat_minor": 5
}
